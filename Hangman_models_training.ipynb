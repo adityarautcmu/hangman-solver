{
 "cells": [
  {
   "cell_type": "markdown",
   "id": "ef7f78f9",
   "metadata": {},
   "source": [
    "## Training a model offline for the task"
   ]
  },
  {
   "cell_type": "markdown",
   "id": "f0c08cbe",
   "metadata": {},
   "source": [
    "### Importing libraries needed"
   ]
  },
  {
   "cell_type": "code",
   "execution_count": 1,
   "id": "20d4c872",
   "metadata": {},
   "outputs": [
    {
     "name": "stdout",
     "output_type": "stream",
     "text": [
      "cuda\n"
     ]
    }
   ],
   "source": [
    "import numpy as np\n",
    "import pandas as pd\n",
    "import random\n",
    "import torch\n",
    "import torch.nn as nn\n",
    "import torch.optim as optim\n",
    "from torch.nn.utils.rnn import *\n",
    "from torch.utils.data import Dataset, DataLoader, random_split\n",
    "import collections \n",
    "import time\n",
    "from datetime import datetime\n",
    "\n",
    "device = torch.device('cuda' if torch.cuda.is_available() else 'cpu')\n",
    "print(device)"
   ]
  },
  {
   "cell_type": "code",
   "execution_count": 2,
   "id": "e75b2a9a",
   "metadata": {},
   "outputs": [],
   "source": [
    "def build_dictionary(dictionary_file_location):\n",
    "    text_file = open(dictionary_file_location,\"r\")\n",
    "    full_dictionary = text_file.read().splitlines()\n",
    "    text_file.close()\n",
    "    return full_dictionary\n",
    "\n",
    "full_dictionary_location = \"words_250000_train.txt\"\n",
    "full_dictionary = build_dictionary(full_dictionary_location)       \n",
    "full_dictionary_common_letter_sorted = collections.Counter(\"\".join(full_dictionary)).most_common()"
   ]
  },
  {
   "cell_type": "code",
   "execution_count": 3,
   "id": "9f05bc41",
   "metadata": {},
   "outputs": [
    {
     "data": {
      "text/plain": [
       "227300"
      ]
     },
     "execution_count": 3,
     "metadata": {},
     "output_type": "execute_result"
    }
   ],
   "source": [
    "len(full_dictionary)"
   ]
  },
  {
   "cell_type": "markdown",
   "id": "8a370dd5",
   "metadata": {},
   "source": [
    "### Creating a dataset with random guesses and masked words\n",
    "- I select a random valid subset of letters that could be a guess with enough lives remaining.\\\n",
    "  In any sample data point,\n",
    "    - there are at most 5 incorrect guesses\n",
    "    - there are at least 1 un-guessed letters\n",
    "- There are 15 random data points created for every word in the given list\n",
    "- This data can of course be made much larger, but I limited this due to time."
   ]
  },
  {
   "cell_type": "code",
   "execution_count": 4,
   "id": "7709b3d4",
   "metadata": {},
   "outputs": [
    {
     "name": "stdout",
     "output_type": "stream",
     "text": [
      "Created data set in time: 55.85075664520264\n"
     ]
    }
   ],
   "source": [
    "unique_letters = 'abcdefghijklmnopqrstuvwxyz'\n",
    "\n",
    "words_guesses_list = []\n",
    "remaining_list = []\n",
    "\n",
    "def create_data_small(dictionary):\n",
    "    for word in dictionary:\n",
    "        for i in range(15):\n",
    "            letters = set(word)\n",
    "            k = float('inf')\n",
    "            l = 0\n",
    "            while k>5 or l<1:\n",
    "                size = random.randint(0, len(letters)+4)\n",
    "                random_letters = set(random.sample(unique_letters, size))\n",
    "                k = len(random_letters.difference(letters))\n",
    "                l = len(letters.difference(random_letters))\n",
    "                \n",
    "            prev_state = ''.join(i if i in random_letters else '_' for i in word)\n",
    "            remaining = list(letters.difference(set(random_letters)))\n",
    "            \n",
    "            words_guesses_list.append((word,random_letters))\n",
    "            remaining_list.append(remaining)\n",
    "\n",
    "a = time.time()\n",
    "\n",
    "create_data_small(full_dictionary)\n",
    "torch.save({'words_guesses':words_guesses_list,'remaining':remaining_list}, 'dataset_large.pt')\n",
    "\n",
    "b = time.time()\n",
    "print(f\"Created data set in time: {b-a}\")"
   ]
  },
  {
   "cell_type": "code",
   "execution_count": 5,
   "id": "6c637bdd",
   "metadata": {},
   "outputs": [
    {
     "name": "stdout",
     "output_type": "stream",
     "text": [
      "data loaded in time: 7.747374057769775\n"
     ]
    }
   ],
   "source": [
    "start = time.time()\n",
    "\n",
    "data = torch.load('dataset_large.pt', weights_only=False)\n",
    "\n",
    "end = time.time()\n",
    "print(\"data loaded in time: {}\".format(end-start))"
   ]
  },
  {
   "cell_type": "markdown",
   "id": "5eb8f846",
   "metadata": {},
   "source": [
    "### Helper functions to convert data as input for model\n",
    "- One Hot encoding of curret state, each letter becomes a One-hot vector of size 27 (accounting for '_')\n",
    "- All the guessed letters are shown by indicator variables 1 or 0 in array of size 26\n",
    "- The perfect guess by a model is equal probability to all remaining letters"
   ]
  },
  {
   "cell_type": "code",
   "execution_count": 6,
   "id": "527ab5fe",
   "metadata": {},
   "outputs": [],
   "source": [
    "def OH_current_state(word, guessed):\n",
    "    indices = [(ord(i)-97 if ord(i)-97 in guessed else 26) for i in word]\n",
    "    one_hot_state = torch.zeros((len(word),27), dtype=torch.float32)\n",
    "    for i,j in enumerate(indices): \n",
    "        one_hot_state[i,j] = 1\n",
    "    return one_hot_state\n",
    "\n",
    "def ID_guessed_letters(guessed):\n",
    "    guessed = [ord(i)-97 for i in guessed]\n",
    "    id_guesses = torch.zeros(26, dtype=torch.float32)\n",
    "    for i in guessed:\n",
    "        id_guesses[i] = 1.0\n",
    "    return id_guesses\n",
    "\n",
    "def correct_probabilities(remaining):\n",
    "    remaining = [ord(i)-97 for i in remaining]\n",
    "    probabilities = torch.zeros(26, dtype=torch.float32)\n",
    "    for i in remaining:\n",
    "        probabilities[i] = 1.0\n",
    "    probabilities /= probabilities.sum()\n",
    "    return probabilities "
   ]
  },
  {
   "cell_type": "markdown",
   "id": "f0183676",
   "metadata": {},
   "source": [
    "### Data preprocessing to encode inputs correctly"
   ]
  },
  {
   "cell_type": "code",
   "execution_count": 7,
   "id": "e7793189",
   "metadata": {},
   "outputs": [],
   "source": [
    "a = time.time()\n",
    "\n",
    "X = data['words_guesses']\n",
    "X1 = [OH_current_state(*i) for i in X]\n",
    "X2 = [ID_guessed_letters(i[1]) for i in X]\n",
    "Y = data['remaining']\n",
    "Y = [correct_probabilities(i) for i in Y]\n",
    "\n",
    "b = time.time()\n",
    "print(f'Data processed in time: {b-a}')"
   ]
  },
  {
   "cell_type": "code",
   "execution_count": 8,
   "id": "037695d3",
   "metadata": {},
   "outputs": [
    {
     "data": {
      "text/plain": [
       "(3409500, 3409500, 3409500)"
      ]
     },
     "execution_count": 8,
     "metadata": {},
     "output_type": "execute_result"
    }
   ],
   "source": [
    "len(X1), len(X2), len(Y)"
   ]
  },
  {
   "cell_type": "markdown",
   "id": "3d468f4f",
   "metadata": {},
   "source": [
    "### Dataset and Dataloader creation"
   ]
  },
  {
   "cell_type": "code",
   "execution_count": 9,
   "id": "69a527c5",
   "metadata": {},
   "outputs": [],
   "source": [
    "class MaskedWordsDataset(Dataset):\n",
    "    def __init__(self, X1, X2, Y):\n",
    "        self.X1 = X1\n",
    "        self.X2 = X2\n",
    "        self.Y  = Y\n",
    "    \n",
    "    def __len__(self):\n",
    "        return len(self.X1)\n",
    "    \n",
    "    def __getitem__(self, index):\n",
    "        feat_1 = self.X1[index]\n",
    "        feat_2 = self.X2[index]\n",
    "        answer = self.Y[index]\n",
    "        return feat_1, feat_2, answer\n",
    "\n",
    "def my_collate(batch):\n",
    "    feat_1, feat_2, answer = zip(*batch)\n",
    "    max_len = max(x.shape[0] for x in feat_1)\n",
    "    padded_feat_1 = [torch.cat([x, torch.zeros(max_len - x.shape[0], x.shape[1], dtype=torch.float32)], dim=0) for x in feat_1]\n",
    "\n",
    "    return torch.stack(padded_feat_1).squeeze(1), torch.stack(feat_2), torch.stack(answer)"
   ]
  },
  {
   "cell_type": "code",
   "execution_count": 10,
   "id": "2947d369",
   "metadata": {},
   "outputs": [],
   "source": [
    "dataset = MaskedWordsDataset(X1, X2, Y)\n",
    "\n",
    "train_size = int(0.9 * len(dataset))\n",
    "test_size  = len(dataset) - train_size\n",
    "batch_size = 500\n",
    "\n",
    "train_set, dev_set = random_split(dataset, [train_size, test_size])\n",
    "\n",
    "train_loader = DataLoader(train_set, batch_size=batch_size, shuffle=True , collate_fn=my_collate, num_workers=8)\n",
    "dev_loader   = DataLoader(dev_set  , batch_size=batch_size, shuffle=False, collate_fn=my_collate, num_workers=8)\n"
   ]
  },
  {
   "cell_type": "markdown",
   "id": "cb24b820",
   "metadata": {},
   "source": [
    "### Model architecture\n",
    "- I chose a bidirectional LSTM with 3 layers and dropout 0.2\n",
    "- The fully connected linear layers face a higher dropout layer value of 0.4\n",
    "- Previously guessed letters are added as input during the second last linear layer"
   ]
  },
  {
   "cell_type": "code",
   "execution_count": 11,
   "id": "86a359c1",
   "metadata": {},
   "outputs": [],
   "source": [
    "class BI_LSTM_model(nn.Module):\n",
    "    \n",
    "    def __init__(self, size_word, size_guessed, hidden_size_lstm, out_size):\n",
    "        super(BI_LSTM_model, self).__init__()\n",
    "        self.lstm = nn.LSTM(size_word, hidden_size_lstm, num_layers=3, bidirectional=True, dropout=0.2, batch_first=True)\n",
    "        self.lin1 = nn.Linear(hidden_size_lstm * 2 + size_guessed, 128)  # hidden_size * 2 because of bidirectional\n",
    "        self.lin2 = nn.Linear(128, out_size)\n",
    "        self.dropout = nn.Dropout(0.4)\n",
    "    \n",
    "    def forward(self, x1, x2):\n",
    "        lstm_out, _ = self.lstm(x1)\n",
    "        lstm_out = lstm_out[:, -1, :]  # Take output of the last time step\n",
    "        x1 = self.dropout(lstm_out)\n",
    "        x = self.lin1(torch.cat((x1,x2), dim=1))\n",
    "        x = self.dropout(x)\n",
    "        x = self.lin2(x)\n",
    "        return x\n",
    "\n",
    "size_word = 27\n",
    "size_guessed = 26\n",
    "hidden_size_lstm = 256\n",
    "out_size = 26"
   ]
  },
  {
   "cell_type": "markdown",
   "id": "2d70ebc2",
   "metadata": {},
   "source": [
    "## Hyper-parameters and training details"
   ]
  },
  {
   "cell_type": "code",
   "execution_count": 12,
   "id": "488faead",
   "metadata": {},
   "outputs": [],
   "source": [
    "num_epoch = 200\n",
    "learning_rate = 1e-3\n",
    "\n",
    "model     = BI_LSTM_model(size_word, size_guessed, hidden_size_lstm, out_size)\n",
    "criterion = nn.CrossEntropyLoss()\n",
    "optimizer = optim.Adam(model.parameters(), lr=learning_rate, weight_decay=1e-5)\n",
    "scheduler = optim.lr_scheduler.StepLR(optimizer, step_size=10, gamma=0.5)"
   ]
  },
  {
   "cell_type": "code",
   "execution_count": 13,
   "id": "a554144e",
   "metadata": {},
   "outputs": [],
   "source": [
    "def train_epoch(model, criterion, optimizer, train_loader, val_loader):\n",
    "    \n",
    "    model.train()\n",
    "    model.to(device)\n",
    "    criterion = criterion.to(device)\n",
    "    start = time.time()\n",
    "    \n",
    "    train_loss = 0\n",
    "    length = len(train_loader)\n",
    "    \n",
    "    for batch_idx, (feat_1, feat_2, answer) in enumerate(train_loader):\n",
    "        feat_1 = feat_1.to(device)\n",
    "        feat_2 = feat_2.to(device)\n",
    "        answer = answer.to(device)\n",
    "        \n",
    "        optimizer.zero_grad()\n",
    "        output = model.forward(feat_1, feat_2)\n",
    "        loss = criterion(output, answer)\n",
    "        loss.backward()\n",
    "        optimizer.step()\n",
    "        \n",
    "        train_loss += loss.item()\n",
    "\n",
    "    print(f\"Training Loss %: {100*train_loss/length}\")\n",
    "    \n",
    "    val_loss = 0\n",
    "    length = len(val_loader)\n",
    "    \n",
    "    model.eval()\n",
    "    with torch.no_grad():\n",
    "        \n",
    "        for batch_idx, (dev_X1, dev_X2, dev_Y) in enumerate(val_loader):            \n",
    "            dev_X1 = dev_X1.to(device)\n",
    "            dev_X2 = dev_X2.to(device)\n",
    "            dev_Y  = dev_Y.to(device)\n",
    "            \n",
    "            output = model(dev_X1, dev_X2)\n",
    "            loss = criterion(output, dev_Y)\n",
    "            \n",
    "            val_loss += loss.item()\n",
    "            \n",
    "    val_loss_epoch = val_loss / length\n",
    "    print(f\"Val Loss of Epoch %: {100*val_loss_epoch}\")\n",
    "    \n",
    "    end = time.time()\n",
    "    print(f\"Epoch time: {end - start}\")\n",
    "    \n",
    "    return val_loss_epoch\n"
   ]
  },
  {
   "cell_type": "code",
   "execution_count": 14,
   "id": "9c6ae470-77a2-4555-bd5c-b23f6c8124b5",
   "metadata": {
    "scrolled": true
   },
   "outputs": [],
   "source": [
    "num_epoch = 200\n",
    "Losses = []\n",
    "\n",
    "model_path = ('./models/new_lstm/')\n",
    "\n",
    "g = open(\"val_loss_log.txt\", 'w')\n",
    "g.close()\n",
    "\n",
    "# Load previous model state if resuming\n",
    "last_epoch = 0\n",
    "try:\n",
    "    checkpoint = torch.load(model_path + str(num_epoch) + '.pt', weights_only=False)\n",
    "    model.load_state_dict(checkpoint['model_state_dict'])\n",
    "    optimizer.load_state_dict(checkpoint['optimizer_state_dict'])\n",
    "    last_epoch = checkpoint['epoch']\n",
    "    scheduler.load_state_dict(checkpoint['scheduler_state_dict'])\n",
    "    print(f\"Resuming training from epoch {last_epoch + 1}\")\n",
    "except FileNotFoundError:\n",
    "    print(\"No checkpoint found, starting training from scratch\")\n",
    "\n",
    "for i in range(last_epoch, num_epoch):\n",
    "    curr_time = datetime.now()\n",
    "    pretty_time = curr_time.strftime(\"%d/%m/%y %H:%M:%S\")\n",
    "    print(\"------------------------------------\")\n",
    "    print(f\"Epoch {i+1} begins at {pretty_time}\")\n",
    "    print(\"------------------------------------\")\n",
    "\n",
    "    val_loss_per_batch = train_epoch(model, criterion, optimizer, train_loader, dev_loader)\n",
    "    scheduler.step()\n",
    "    \n",
    "    with open(\"val_loss_log.txt\",'a') as g:\n",
    "        g.write(f\"Epoch {i+1} val loss : {val_loss_per_batch}\\n\")\n",
    "            \n",
    "    print(f\"\\n Saving model at {model_path}{i+1}.pt\\n\")\n",
    "    torch.save({\n",
    "        'epoch': i + 1,\n",
    "        'model_state_dict': model.state_dict(),\n",
    "        'optimizer_state_dict': optimizer.state_dict(),\n",
    "        'scheduler_state_dict': scheduler.state_dict(),\n",
    "        'val_loss': val_loss_per_batch,\n",
    "    }, model_path + str(i+1) + '.pt')\n",
    "            \n",
    "    Losses.append(val_loss_per_batch)\n",
    "    "
   ]
  }
 ],
 "metadata": {
  "kernelspec": {
   "display_name": "Python 3 (ipykernel)",
   "language": "python",
   "name": "python3"
  },
  "language_info": {
   "codemirror_mode": {
    "name": "ipython",
    "version": 3
   },
   "file_extension": ".py",
   "mimetype": "text/x-python",
   "name": "python",
   "nbconvert_exporter": "python",
   "pygments_lexer": "ipython3",
   "version": "3.12.3"
  }
 },
 "nbformat": 4,
 "nbformat_minor": 5
}
