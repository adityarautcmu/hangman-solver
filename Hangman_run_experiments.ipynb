{
 "cells": [
  {
   "cell_type": "markdown",
   "id": "ea974e98",
   "metadata": {},
   "source": [
    "## Training a model offline for the task"
   ]
  },
  {
   "cell_type": "markdown",
   "id": "59b3e3de",
   "metadata": {},
   "source": [
    "### Importing libraries needed"
   ]
  },
  {
   "cell_type": "code",
   "execution_count": 68,
   "id": "2b335479",
   "metadata": {},
   "outputs": [
    {
     "name": "stdout",
     "output_type": "stream",
     "text": [
      "cuda\n"
     ]
    }
   ],
   "source": [
    "import numpy as np\n",
    "import torch\n",
    "import torch.nn as nn\n",
    "import collections \n",
    "import random\n",
    "import time\n",
    "\n",
    "device = torch.device('cuda' if torch.cuda.is_available() else 'cpu')\n",
    "print(device)"
   ]
  },
  {
   "cell_type": "code",
   "execution_count": 69,
   "id": "8e9a5cf9",
   "metadata": {},
   "outputs": [],
   "source": [
    "def build_dictionary(dictionary_file_location):\n",
    "    text_file = open(dictionary_file_location,\"r\")\n",
    "    full_dictionary = text_file.read().splitlines()\n",
    "    text_file.close()\n",
    "    return full_dictionary\n",
    "\n",
    "full_dictionary_location = \"words_250000_train.txt\"\n",
    "full_dictionary = build_dictionary(full_dictionary_location)       \n",
    "full_dictionary_common_letter_sorted = collections.Counter(\"\".join(full_dictionary)).most_common()"
   ]
  },
  {
   "cell_type": "code",
   "execution_count": 70,
   "id": "34cc221c",
   "metadata": {},
   "outputs": [
    {
     "data": {
      "text/plain": [
       "227300"
      ]
     },
     "execution_count": 70,
     "metadata": {},
     "output_type": "execute_result"
    }
   ],
   "source": [
    "len(full_dictionary)"
   ]
  },
  {
   "cell_type": "markdown",
   "id": "12d16f76",
   "metadata": {},
   "source": [
    "### Offline Hangman player for training"
   ]
  },
  {
   "cell_type": "code",
   "execution_count": 71,
   "id": "ae299910",
   "metadata": {},
   "outputs": [],
   "source": [
    "class Hangman_offline:\n",
    "    def __init__(self, word, model, lives=6):\n",
    "        self.word = word\n",
    "        self.model = model\n",
    "        self.lives = lives\n",
    "        self.guessed = set()\n",
    "        self.remaining = set(ord(i)-97 for i in self.word)\n",
    "        self.prev_states = []\n",
    "        self.guesses_made = []\n",
    "        self.probabilities = []\n",
    "        return\n",
    "\n",
    "    def OH_current_state(self):\n",
    "        indices = [(ord(i)-97 if ord(i)-97 in self.guessed else 26) for i in self.word]\n",
    "        one_hot_state = torch.zeros((len(self.word),27), dtype=torch.float32)\n",
    "        for i,j in enumerate(indices): \n",
    "            one_hot_state[i,j] = 1\n",
    "        return one_hot_state\n",
    "\n",
    "    def OH_guess(self, guess):\n",
    "        one_hot_guess = torch.zeros(26, dtype=torch.float32)\n",
    "        one_hot_guess[guess] = 1\n",
    "        return one_hot_guess\n",
    "\n",
    "    def ID_guessed_letters(self):\n",
    "        id_guesses = torch.zeros(26, dtype=torch.float32)\n",
    "        for i in self.guessed:\n",
    "            id_guesses[i] = 1.0\n",
    "        return id_guesses\n",
    "\n",
    "    def correct_probabilities(self):\n",
    "        probabilities = torch.zeros(26, dtype=torch.float32)\n",
    "        for i in self.remaining:\n",
    "            probabilities[i] = 1.0\n",
    "        probabilities /= probabilities.sum()\n",
    "        return probabilities            \n",
    "\n",
    "    def actions_on_guess(self, guess):\n",
    "        self.prev_states.append(self.OH_current_state())\n",
    "        self.guesses_made.append(guess)\n",
    "        self.guessed.add(guess)\n",
    "        \n",
    "        answer_probability = self.correct_probabilities()\n",
    "        self.probabilities.append(answer_probability)\n",
    "        \n",
    "        if guess in self.remaining:\n",
    "            self.remaining.remove(guess)\n",
    "        if self.probabilities[-1][guess] < 1e-5:\n",
    "            self.lives -= 1\n",
    "            \n",
    "        return\n",
    "\n",
    "    def run_game(self):\n",
    "                \n",
    "        while self.lives and self.remaining:\n",
    "            masked_word = self.OH_current_state().to(device)\n",
    "            prev_guesses = self.ID_guessed_letters().to(device)\n",
    "\n",
    "            model.eval()\n",
    "            model.to(device)\n",
    "            \n",
    "            output = self.model(masked_word.unsqueeze(0), prev_guesses.unsqueeze(0))\n",
    "            guess = torch.argmax(output).item()\n",
    "\n",
    "            while prev_guesses[guess]:\n",
    "                output[0][guess] = -float('inf')\n",
    "                guess = torch.argmax(output).item()\n",
    "                \n",
    "\n",
    "            self.actions_on_guess(guess)\n",
    "            \n",
    "            # print(\"Shape of probs\", np.array(self.probabilities).shape)\n",
    "            # for i in self.probabilities:\n",
    "            #     print(i.shape)\n",
    "            \n",
    "        return (torch.from_numpy(np.array(self.prev_states)), \n",
    "                torch.from_numpy(np.array([self.OH_guess(i) for i in self.guesses_made])), \n",
    "                torch.from_numpy(np.array(self.probabilities)))\n",
    "\n",
    "    def plays_view(self):\n",
    "        print(f\"Actual answer : {self.word}\")\n",
    "        for i in range(len(self.guesses_made)):\n",
    "            view = ''.join(['-' if j==26 else chr(j+97) for j in self.prev_states[i].argmax(axis=1)])\n",
    "            print(f\"Guessed {chr(self.guesses_made[i]+97)} when showed {view}\")\n",
    "        print(\"Game Won!\" if self.lives else \"Game Lost :(\")\n",
    "\n",
    "    def evaluate_performance(self):\n",
    "        success = self.lives > 0\n",
    "        letters = set(self.word)\n",
    "        correct_guesses = len(letters) - len(self.remaining)\n",
    "        incorrect_guesses = len(self.guesses_made) - correct_guesses\n",
    "        return (success, correct_guesses, incorrect_guesses, letters)"
   ]
  },
  {
   "cell_type": "markdown",
   "id": "5b507a2e",
   "metadata": {},
   "source": [
    "### Creating the model"
   ]
  },
  {
   "cell_type": "code",
   "execution_count": 282,
   "id": "200cd936",
   "metadata": {},
   "outputs": [
    {
     "data": {
      "text/plain": [
       "BI_LSTM_model(\n",
       "  (lstm): LSTM(27, 256, num_layers=3, batch_first=True, dropout=0.2, bidirectional=True)\n",
       "  (lin1): Linear(in_features=538, out_features=128, bias=True)\n",
       "  (lin2): Linear(in_features=128, out_features=26, bias=True)\n",
       "  (dropout): Dropout(p=0.4, inplace=False)\n",
       ")"
      ]
     },
     "execution_count": 282,
     "metadata": {},
     "output_type": "execute_result"
    }
   ],
   "source": [
    "class BI_LSTM_model(nn.Module):\n",
    "    \n",
    "    def __init__(self, size_word, size_guessed, hidden_size_lstm, out_size):\n",
    "        super(BI_LSTM_model, self).__init__()\n",
    "        self.lstm = nn.LSTM(size_word, hidden_size_lstm, num_layers=3, bidirectional=True, dropout=0.2, batch_first=True)\n",
    "        self.lin1 = nn.Linear(hidden_size_lstm * 2 + size_guessed, 128)  # hidden_size * 2 because of bidirectional\n",
    "        self.lin2 = nn.Linear(128, out_size)\n",
    "        self.dropout = nn.Dropout(0.4)\n",
    "    \n",
    "    def forward(self, x1, x2):\n",
    "        lstm_out, _ = self.lstm(x1)\n",
    "        lstm_out = lstm_out[:, -1, :]  # Take output of the last time step\n",
    "        x1 = self.dropout(lstm_out)\n",
    "        x = self.lin1(torch.cat((x1,x2), dim=1))\n",
    "        x = self.dropout(x)\n",
    "        x = self.lin2(x)\n",
    "        return x\n",
    "\n",
    "size_word = 27\n",
    "size_guessed = 26\n",
    "hidden_size_lstm = 256\n",
    "out_size = 26\n",
    "\n",
    "model = BI_LSTM_model(size_word, size_guessed, hidden_size_lstm, out_size)\n",
    "checkpoint = torch.load('./models/241.pt', weights_only=False)\n",
    "model.load_state_dict(checkpoint['model_state_dict'])\n",
    "model.to(device)"
   ]
  },
  {
   "cell_type": "code",
   "execution_count": 283,
   "id": "ca674af2",
   "metadata": {},
   "outputs": [
    {
     "name": "stdout",
     "output_type": "stream",
     "text": [
      "guess letter : e\n"
     ]
    }
   ],
   "source": [
    "word = 'microsoft'\n",
    "\n",
    "player = Hangman_offline(word, model)\n",
    "#Sample run\n",
    "masked_word = player.OH_current_state()\n",
    "prev_guesses = player.ID_guessed_letters()\n",
    "\n",
    "output = model(masked_word.unsqueeze(0).to(device), prev_guesses.unsqueeze(0).to(device))\n",
    "print(\"guess letter : {}\".format(chr(torch.argmax(output).item()+97)))"
   ]
  },
  {
   "cell_type": "code",
   "execution_count": 284,
   "id": "d6881e03",
   "metadata": {
    "scrolled": true
   },
   "outputs": [
    {
     "name": "stdout",
     "output_type": "stream",
     "text": [
      "Actual answer : microsoft\n",
      "Guessed e when showed ---------\n",
      "Guessed a when showed ---------\n",
      "Guessed i when showed ---------\n",
      "Guessed s when showed -i-------\n",
      "Guessed r when showed -i---s---\n",
      "Guessed t when showed -i-r-s---\n",
      "Guessed o when showed -i-r-s--t\n",
      "Guessed n when showed -i-roso-t\n",
      "Guessed l when showed -i-roso-t\n",
      "Guessed c when showed -i-roso-t\n",
      "Guessed d when showed -icroso-t\n",
      "Guessed u when showed -icroso-t\n",
      "Game Lost :(\n"
     ]
    }
   ],
   "source": [
    "player.run_game()\n",
    "player.plays_view()"
   ]
  },
  {
   "cell_type": "code",
   "execution_count": 285,
   "id": "55e3f37b",
   "metadata": {},
   "outputs": [],
   "source": [
    "correct = 0\n",
    "played = 0"
   ]
  },
  {
   "cell_type": "code",
   "execution_count": 288,
   "id": "f85aac33",
   "metadata": {},
   "outputs": [],
   "source": [
    "this_correct = 0\n",
    "this_played = 0\n",
    "\n",
    "start = time.time()\n",
    "for i,word in enumerate(random.sample(full_dictionary,200)):\n",
    "    if i and i%10000 == 0: print(f\"playing {i}-th game at {time.time()-start}\")\n",
    "    player = Hangman_offline(word, model)\n",
    "    player.run_game()\n",
    "    success, _, _, _ = player.evaluate_performance()\n",
    "    played += 1\n",
    "    this_played += 1\n",
    "    if success:\n",
    "        correct += 1\n",
    "        this_correct +=1\n",
    "\n",
    "this_accuracy = this_correct / this_played"
   ]
  },
  {
   "cell_type": "code",
   "execution_count": 289,
   "id": "bdbaf52d",
   "metadata": {},
   "outputs": [
    {
     "name": "stdout",
     "output_type": "stream",
     "text": [
      "Last  Accuracy: 10.5%, won 21 out of 200\n",
      "Total Accuracy: 11.5%, won 46 out of 400\n"
     ]
    }
   ],
   "source": [
    "accuracy = correct / played\n",
    "print(f\"Last  Accuracy: {this_accuracy*100}%, won {this_correct} out of {this_played}\")\n",
    "print(f\"Total Accuracy: {accuracy*100}%, won {correct} out of {played}\")"
   ]
  },
  {
   "cell_type": "code",
   "execution_count": null,
   "id": "98860127",
   "metadata": {},
   "outputs": [],
   "source": []
  }
 ],
 "metadata": {
  "kernelspec": {
   "display_name": "Python 3 (ipykernel)",
   "language": "python",
   "name": "python3"
  },
  "language_info": {
   "codemirror_mode": {
    "name": "ipython",
    "version": 3
   },
   "file_extension": ".py",
   "mimetype": "text/x-python",
   "name": "python",
   "nbconvert_exporter": "python",
   "pygments_lexer": "ipython3",
   "version": "3.12.3"
  }
 },
 "nbformat": 4,
 "nbformat_minor": 5
}
